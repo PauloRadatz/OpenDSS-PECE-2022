{
 "cells": [
  {
   "cell_type": "markdown",
   "id": "c1a2b8bd-6d83-41ff-9d81-f3759dba572f",
   "metadata": {
    "tags": []
   },
   "source": [
    "<h1><center>Selectivity Analysis in Medium Voltage Distribution Networks</center></h1>\n",
    "<p>Author: Yuri Perim</p>"
   ]
  },
  {
   "cell_type": "markdown",
   "id": "f435ceb0-f405-42aa-b45f-42b23a10e5da",
   "metadata": {},
   "source": [
    "<h3>Modules</h3>"
   ]
  },
  {
   "cell_type": "code",
   "execution_count": null,
   "id": "e7df6368-76a9-4560-95bb-d94247a7df86",
   "metadata": {},
   "outputs": [],
   "source": [
    "import os\n",
    "from pathlib import Path\n",
    "import numpy as np\n",
    "import networkx as nx\n",
    "import matplotlib.pyplot as plt\n",
    "import py_dss_interface\n",
    "import net_utils\n",
    "import prot_utils\n",
    "import sc_utils"
   ]
  },
  {
   "cell_type": "markdown",
   "id": "03112a8a-ac9b-4d51-89e0-8fac787a1166",
   "metadata": {},
   "source": [
    "<h3>OpenDSS</h3>"
   ]
  },
  {
   "cell_type": "code",
   "execution_count": null,
   "id": "bcd3a32c-4fc7-4911-b478-d02c89721372",
   "metadata": {},
   "outputs": [],
   "source": [
    "dss = py_dss_interface.DSSDLL()"
   ]
  },
  {
   "cell_type": "markdown",
   "id": "e3fd368e-484e-4370-a683-1cf0e8c23212",
   "metadata": {},
   "source": [
    "<h3>Directory and Files</h3>"
   ]
  },
  {
   "cell_type": "code",
   "execution_count": null,
   "id": "1f50f2d7-8dab-4afd-89d1-1ebed1196cb4",
   "metadata": {},
   "outputs": [],
   "source": [
    "DIR = Path(r'C:\\Users\\yurip\\GitHub\\Public\\EDS_Protection\\8500-Node')\n",
    "\n",
    "MASTER = 'Master-unbal-python.dss'\n",
    "dss_file = os.path.join(DIR, MASTER)\n",
    "\n",
    "TCC_CURVES = 'TCC_Curve.dss'\n",
    "\n",
    "FUSES = 'Fuses.DSS'\n",
    "RECLOSERS = 'Reclosers.DSS'"
   ]
  },
  {
   "cell_type": "markdown",
   "id": "102a6696-dc43-4350-91e2-5f14ee7e1059",
   "metadata": {},
   "source": [
    "<h3>Network Graph</h3>"
   ]
  },
  {
   "cell_type": "code",
   "execution_count": null,
   "id": "9ce371bb-2823-4f80-980d-2319c56c5f1f",
   "metadata": {},
   "outputs": [],
   "source": [
    "G = net_utils.ckt_build_graph(dss, dss_file)"
   ]
  },
  {
   "cell_type": "markdown",
   "id": "ec8e6b1f-6334-4365-8549-53900ae3bc5d",
   "metadata": {},
   "source": [
    "<h3>TCC Curves</h3>"
   ]
  },
  {
   "cell_type": "code",
   "execution_count": null,
   "id": "aa983919-f52b-4d93-ad15-f0ec6efc0de8",
   "metadata": {},
   "outputs": [],
   "source": [
    "tcc_dict = prot_utils.get_tcc_curves(dss, dss_file, TCC_CURVES)"
   ]
  },
  {
   "cell_type": "markdown",
   "id": "c67cf96c-96df-4cfb-8517-9f92bfb25592",
   "metadata": {},
   "source": [
    "<h3>Protection Graph</h3>"
   ]
  },
  {
   "cell_type": "code",
   "execution_count": null,
   "id": "ddd3a79a-5fe6-4e2d-99dc-5446038890dd",
   "metadata": {},
   "outputs": [],
   "source": [
    "pdelt_fuse_dict = net_utils.get_fuses(dss, dss_file, TCC_CURVES, FUSES)\n",
    "pdelt_recloser_dict = net_utils.get_reclosers(dss, dss_file, TCC_CURVES, RECLOSERS)\n",
    "pdelt_ctrlelt_dict = {**pdelt_fuse_dict, **pdelt_recloser_dict}\n",
    "\n",
    "P = net_utils.prot_build_graph(G, pdelt_ctrlelt_dict)\n",
    "\n",
    "if nx.is_branching(P):\n",
    "    if nx.is_arborescence(P):\n",
    "        display('Way to go')\n",
    "    else:\n",
    "        display('Almost there')\n",
    "else:\n",
    "    display('Verify')"
   ]
  },
  {
   "cell_type": "markdown",
   "id": "373e4a54-cf20-4835-8270-7230eee0d181",
   "metadata": {},
   "source": [
    "<h3>Analysis</h3>"
   ]
  },
  {
   "cell_type": "code",
   "execution_count": null,
   "id": "9ea60cd4-7583-4cd8-8ac6-39113a875bfb",
   "metadata": {},
   "outputs": [],
   "source": [
    "#voltage_bases = [13.8]\n",
    "voltage_bases = [115, 12.47, 0.48, 0.208]\n",
    "\n",
    "root = set([ctrlelt for ctrlelt in P.nodes() if P.in_degree(ctrlelt) == 0]).pop()\n",
    "\n",
    "threshold = 0.2\n",
    "\n",
    "for outer_node in P.nodes():\n",
    "    sc_bus = P.nodes[outer_node]['sc_bus']\n",
    "    sc_utils.sc_sim(dss, dss_file, bus_name=sc_bus, sc_type='1001', volt_list=voltage_bases, max_iter=30)\n",
    "    \n",
    "    path = nx.shortest_path(P, source=root, target=outer_node)[::-1]\n",
    "    current_time_list = []\n",
    "    for inner_node in path:\n",
    "        prot_node_dict = {inner_node: P.nodes[inner_node]}\n",
    "        currents_dict = sc_utils.get_elt_currents(dss, prot_node_dict[inner_node]['pdelt'])\n",
    "        current, time = prot_utils.compute_time(prot_node_dict, pdelt_ctrlelt_dict, tcc_dict, currents_dict)\n",
    "        current_time_list.append((inner_node, current, time))\n",
    "    \n",
    "    for i in range(len(current_time_list) - 1):\n",
    "        actual_prot, actual_current, actual_time = current_time_list[i]\n",
    "        upstream_prot, upstream_current, upstream_time = current_time_list[i + 1]\n",
    "        \n",
    "        if actual_time == float('Inf') or upstream_time == float('Inf'):\n",
    "            pass\n",
    "        else:\n",
    "            delta_t = upstream_time - actual_time\n",
    "            if delta_t < threshold:\n",
    "                display(f'SLG fault on bus {sc_bus}:')\n",
    "                display(f'\\u2022 {actual_prot} is not selective with upstream {upstream_prot}')\n",
    "                display(f'\\u2022 {actual_prot} -> current: {actual_current:.4f}, time: {actual_time:.6f} | {upstream_prot} -> current: {upstream_current:.4f}, time: {upstream_time:.6f}')\n",
    "                display(f'\\u2022 Time delta = {delta_t:.6f}')"
   ]
  },
  {
   "cell_type": "markdown",
   "id": "07807258-86aa-47a7-93f9-6bc6c71159d1",
   "metadata": {},
   "source": [
    "<h3>Coordination Graph</h3>"
   ]
  },
  {
   "cell_type": "code",
   "execution_count": null,
   "id": "7d5e288a-9f65-4802-a722-8a8fe6cf3d0a",
   "metadata": {},
   "outputs": [],
   "source": [
    "devices = ['fuse.ln5744326-1', 'fuse.ln6229831-1', 'recloser.subbreaker']\n",
    "\n",
    "c_array = np.logspace(1, 3, num=30, endpoint=True, base=10.0)\n",
    "\n",
    "fig, ax = plt.subplots()\n",
    "\n",
    "for pdelt, ctrlelt_dict in pdelt_ctrlelt_dict.items():\n",
    "    ctrlelt = ctrlelt_dict['name']\n",
    "    if ctrlelt in devices:\n",
    "        prot_node_dict = {ctrlelt: P.nodes[ctrlelt]}\n",
    "        ph_tcc_func, gr_tcc_func = prot_utils.get_ctrlelt_tcc_func(prot_node_dict, pdelt_ctrlelt_dict, tcc_dict)\n",
    "        ax.loglog(c_array, gr_tcc_func(c_array), label=ctrlelt)\n",
    "\n",
    "ax.grid(True, which='both')\n",
    "ax.set_xlabel('Current')\n",
    "ax.set_ylabel('Time')\n",
    "ax.legend()\n",
    "\n",
    "plt.show()"
   ]
  },
  {
   "cell_type": "markdown",
   "id": "40bdfce3-07ba-4fdc-a401-40ae3dabfc56",
   "metadata": {},
   "source": [
    "<h3>Sandbox</h3>"
   ]
  },
  {
   "cell_type": "code",
   "execution_count": null,
   "id": "d8a91c6c-e837-4c2d-bc42-c86b8096bd52",
   "metadata": {},
   "outputs": [],
   "source": [
    "nx.draw(P)"
   ]
  }
 ],
 "metadata": {
  "kernelspec": {
   "display_name": "Python 3 (ipykernel)",
   "language": "python",
   "name": "python3"
  },
  "language_info": {
   "codemirror_mode": {
    "name": "ipython",
    "version": 3
   },
   "file_extension": ".py",
   "mimetype": "text/x-python",
   "name": "python",
   "nbconvert_exporter": "python",
   "pygments_lexer": "ipython3",
   "version": "3.10.4"
  }
 },
 "nbformat": 4,
 "nbformat_minor": 5
}
